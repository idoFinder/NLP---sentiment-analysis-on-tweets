{
  "nbformat": 4,
  "nbformat_minor": 0,
  "metadata": {
    "colab": {
      "name": "CNN_For_NLP.ipynb",
      "provenance": [],
      "collapsed_sections": [],
      "toc_visible": true,
      "authorship_tag": "ABX9TyPksoJJ2QCrRLXQU7j3O0h5",
      "include_colab_link": true
    },
    "kernelspec": {
      "name": "python3",
      "display_name": "Python 3"
    },
    "accelerator": "GPU"
  },
  "cells": [
    {
      "cell_type": "markdown",
      "metadata": {
        "id": "view-in-github",
        "colab_type": "text"
      },
      "source": [
        "<a href=\"https://colab.research.google.com/github/idoFinder/NLP_colab/blob/master/CNN_For_NLP.ipynb\" target=\"_parent\"><img src=\"https://colab.research.google.com/assets/colab-badge.svg\" alt=\"Open In Colab\"/></a>"
      ]
    },
    {
      "cell_type": "markdown",
      "metadata": {
        "id": "hOyaoWQFveXm",
        "colab_type": "text"
      },
      "source": [
        "# Imports\n",
        "\n"
      ]
    },
    {
      "cell_type": "code",
      "metadata": {
        "id": "3gYLT0VMuo8f",
        "colab_type": "code",
        "colab": {}
      },
      "source": [
        "import numpy as np\n",
        "import math\n",
        "import re\n",
        "import pandas as pd\n",
        "from bs4 import BeautifulSoup\n",
        "import os\n",
        "from google.colab import drive\n",
        "from sklearn.model_selection import train_test_split\n",
        "from sklearn.metrics import confusion_matrix, accuracy_score"
      ],
      "execution_count": 0,
      "outputs": []
    },
    {
      "cell_type": "code",
      "metadata": {
        "id": "0EizKofXxAfR",
        "colab_type": "code",
        "outputId": "a9a93f40-c16d-419b-ea19-96c9e9e0869d",
        "colab": {
          "base_uri": "https://localhost:8080/",
          "height": 34
        }
      },
      "source": [
        "\n",
        "%tensorflow_version 2.x\n",
        "import tensorflow as tf\n",
        "device_name = tf.test.gpu_device_name()\n",
        "if device_name != '/device:GPU:0':\n",
        "  raise SystemError('GPU device not found')\n",
        "print('Found GPU at: {}'.format(device_name))\n",
        "\n",
        "\n",
        "from tensorflow.keras import layers\n",
        "import tensorflow_datasets as tfds\n",
        "\n"
      ],
      "execution_count": 17,
      "outputs": [
        {
          "output_type": "stream",
          "text": [
            "Found GPU at: /device:GPU:0\n"
          ],
          "name": "stdout"
        }
      ]
    },
    {
      "cell_type": "markdown",
      "metadata": {
        "id": "wf6ENxYroYmh",
        "colab_type": "text"
      },
      "source": [
        "# Load Data"
      ]
    },
    {
      "cell_type": "code",
      "metadata": {
        "id": "SXlqio5fHWw4",
        "colab_type": "code",
        "outputId": "c0f00ed8-9a1f-4a0b-b116-e2af93666ec0",
        "colab": {
          "base_uri": "https://localhost:8080/",
          "height": 34
        }
      },
      "source": [
        "from google.colab import drive\n",
        "drive.mount('/content/drive')"
      ],
      "execution_count": 18,
      "outputs": [
        {
          "output_type": "stream",
          "text": [
            "Drive already mounted at /content/drive; to attempt to forcibly remount, call drive.mount(\"/content/drive\", force_remount=True).\n"
          ],
          "name": "stdout"
        }
      ]
    },
    {
      "cell_type": "code",
      "metadata": {
        "id": "6tNq8WDPoUPg",
        "colab_type": "code",
        "colab": {}
      },
      "source": [
        "columns = ['idx','sentiment','id','date','query','user','text']\n",
        "train_data = pd.read_csv('/content/drive/My Drive/Projects/COLAB/CNN_For_NLP/data/train_sub.csv',\n",
        "                         header=None,\n",
        "                         names = columns,\n",
        "                         engine=\"python\",\n",
        "                         encoding=\"latin1\")\n",
        "\n",
        "# TODO: fix the CSV to match this format\n",
        "train_data = train_data.drop(['idx'], axis=1).iloc[1:]"
      ],
      "execution_count": 0,
      "outputs": []
    },
    {
      "cell_type": "code",
      "metadata": {
        "id": "52HDklDOo17w",
        "colab_type": "code",
        "colab": {}
      },
      "source": [
        "columns = ['sentiment','id','date','query','user','text']\n",
        "test_data = pd.read_csv('/content/drive/My Drive/Projects/COLAB/CNN_For_NLP/data/test.csv',\n",
        "                         header=None,\n",
        "                         names = columns,\n",
        "                         engine=\"python\",\n",
        "                         encoding=\"latin1\")"
      ],
      "execution_count": 0,
      "outputs": []
    },
    {
      "cell_type": "markdown",
      "metadata": {
        "id": "M3h3mBDIDFuj",
        "colab_type": "text"
      },
      "source": [
        "# Cleaning & Preprocessing"
      ]
    },
    {
      "cell_type": "code",
      "metadata": {
        "id": "q9z3FA9K80Lb",
        "colab_type": "code",
        "colab": {}
      },
      "source": [
        "def clean_tweets(tweet):\n",
        "  tweet = BeautifulSoup(tweet,\"lxml\").get_text()\n",
        "  tweet = re.sub(r\"@[A-Za-z0-9]+\", ' ',tweet)\n",
        "  tweet = re.sub(r\"https?://[A-Za-z0-9./]+\", ' ',tweet)\n",
        "  tweet = re.sub(r\"[^a-zA-Z.!?]\", ' ',tweet)\n",
        "  tweet = re.sub(r\" +\", ' ',tweet)\n",
        "  return tweet\n"
      ],
      "execution_count": 0,
      "outputs": []
    },
    {
      "cell_type": "code",
      "metadata": {
        "id": "22LuQ5jx8mkj",
        "colab_type": "code",
        "colab": {}
      },
      "source": [
        "train_data.drop(['id','date','query','user'], axis=1,inplace=True)\n",
        "test_data.drop(['id','date','query','user'], axis=1,inplace=True)\n",
        "\n",
        "clean_train_data = [clean_tweets(tweet) for tweet in  train_data.text]\n",
        "clean_test_data = [clean_tweets(tweet) for tweet in  test_data.text]\n",
        "\n",
        "# changing the sentiment 4 into 1\n",
        "train_labels = train_data.sentiment.values\n",
        "train_labels[train_labels == '4'] = 1\n",
        "train_labels[train_labels == '0'] = 0\n",
        "\n",
        "# Tokenizing the words into numbers vector\n",
        "tokenizer = tfds.features.text.SubwordTextEncoder.build_from_corpus(\n",
        "    clean_train_data, target_vocab_size=2**16\n",
        ")\n",
        "\n",
        "# Converting the text input into numerical vector\n",
        "data_inputs = [tokenizer.encode(sent) for sent in clean_train_data]\n",
        "\n",
        "MAX_LEN = max(len(vec) for vec in data_inputs)\n",
        "\n",
        "# Add padding to all inputs to have the same size\n",
        "data_inputs = tf.keras.preprocessing.sequence.pad_sequences(data_inputs,\n",
        "                                                            value=0,\n",
        "                                                            padding='post',\n",
        "                                                            maxlen=MAX_LEN)\n",
        "\n",
        "# split train and test\n",
        "X_train, X_test, y_train, y_test = train_test_split(data_inputs, train_labels,\n",
        "                                                    stratify=train_labels, \n",
        "                                                    test_size=0.01)"
      ],
      "execution_count": 0,
      "outputs": []
    },
    {
      "cell_type": "markdown",
      "metadata": {
        "id": "rb1Q-1LuUu6Y",
        "colab_type": "text"
      },
      "source": [
        "# Model"
      ]
    },
    {
      "cell_type": "code",
      "metadata": {
        "id": "5K-hU8ljUxe3",
        "colab_type": "code",
        "colab": {}
      },
      "source": [
        "class DCNN(tf.keras.Model):\n",
        "  def __init__(self,\n",
        "               vocab_size,\n",
        "               emb_dim=128,\n",
        "               nb_filters=50,\n",
        "               FFN_units=512,\n",
        "               nb_classes=2,\n",
        "               dropout_rate=0.1,\n",
        "               training=False,\n",
        "               name='DCNN'):\n",
        "    \n",
        "    super(DCNN,self).__init__(name=name)\n",
        "    \n",
        "    self.embedding = layers.Embedding(vocab_size, emb_dim)\n",
        "\n",
        "    self.bigram = layers.Conv1D(filters=nb_filters,padding='valid',kernel_size=2,activation='relu')\n",
        "    self.pool_1 = layers.GlobalMaxPooling1D()\n",
        "\n",
        "    self.trigram = layers.Conv1D(filters=nb_filters,padding='valid',kernel_size=3,activation='relu')\n",
        "    self.pool_2 = layers.GlobalMaxPooling1D()\n",
        "\n",
        "    self.fourgram = layers.Conv1D(filters=nb_filters,padding='valid',kernel_size=4,activation='relu')\n",
        "    self.pool_3 = layers.GlobalMaxPooling1D()\n",
        "\n",
        "    self.dense_1 = layers.Dense(units=FFN_units, activation='relu')\n",
        "    self.dropout = layers.Dropout(rate=dropout_rate)\n",
        "\n",
        "    if nb_classes == 2:\n",
        "      self.last_dense = layers.Dense(units=1, activation='sigmoid')\n",
        "    else:\n",
        "      self.last_dense = layers.Dense(units=nb_classes, activation='softmax')\n",
        "    \n",
        "    \n",
        "  def call(self,inputs,training):\n",
        "    x = self.embedding(inputs)\n",
        "    x_1 = self.bigram(x)\n",
        "    x_1 = self.pool_1(x_1)\n",
        "    x_2 = self.trigram(x)\n",
        "    x_2 = self.pool_2(x_2)\n",
        "    x_3 = self.fourgram(x)\n",
        "    x_3 = self.pool_3(x_3)\n",
        "\n",
        "    # shape: (batch_size, 3*nb_filters)\n",
        "    merged = tf.concat([x_1,x_2,x_3], axis=-1) \n",
        "    merged = self.dense_1(merged)\n",
        "    merged = self.dropout(merged, training)\n",
        "    output = self.last_dense(merged)\n",
        "\n",
        "    return output\n",
        "\n",
        "\n",
        "\n"
      ],
      "execution_count": 0,
      "outputs": []
    },
    {
      "cell_type": "markdown",
      "metadata": {
        "id": "Ivk6sgXPaaNa",
        "colab_type": "text"
      },
      "source": [
        "## Config"
      ]
    },
    {
      "cell_type": "code",
      "metadata": {
        "id": "3RIyBRGnaSsQ",
        "colab_type": "code",
        "colab": {}
      },
      "source": [
        "# parameters for model\n",
        "VOCAB_SIZE = tokenizer.vocab_size\n",
        "EMB_DIM=200\n",
        "NB_FILTERS = 100\n",
        "FFN_UNITS =256\n",
        "NB_CLASSES = len(set(y_train))\n",
        "DROUPOUT_RATE = 0.2\n",
        "BATCH_SIZE =50\n",
        "NB_EPOCHS = 2"
      ],
      "execution_count": 0,
      "outputs": []
    },
    {
      "cell_type": "markdown",
      "metadata": {
        "id": "zNcCDov3bLWD",
        "colab_type": "text"
      },
      "source": [
        "\n",
        "## Training"
      ]
    },
    {
      "cell_type": "code",
      "metadata": {
        "id": "AvH-CO1fa5cC",
        "colab_type": "code",
        "colab": {}
      },
      "source": [
        "Dcnn = DCNN(vocab_size = VOCAB_SIZE,\n",
        "            emb_dim=EMB_DIM,\n",
        "            nb_filters=NB_FILTERS,\n",
        "            FFN_units=FFN_UNITS,\n",
        "            nb_classes=NB_CLASSES,\n",
        "            dropout_rate=DROUPOUT_RATE)\n"
      ],
      "execution_count": 0,
      "outputs": []
    },
    {
      "cell_type": "code",
      "metadata": {
        "id": "8s26hU0Bbi8n",
        "colab_type": "code",
        "colab": {}
      },
      "source": [
        "if NB_CLASSES == 2:\n",
        "  Dcnn.compile(loss=tf.keras.losses.BinaryCrossentropy(from_logits=True),\n",
        "               optimizer='adam',\n",
        "               metrics=[\"accuracy\"])\n",
        "else:\n",
        "    Dcnn.compile(loss='sparse_categorical_crossentropy',\n",
        "              optimizer='adam',\n",
        "              metrics=[\"sparse_categorical_accuracy\"])"
      ],
      "execution_count": 0,
      "outputs": []
    },
    {
      "cell_type": "code",
      "metadata": {
        "id": "FjleGNyab-90",
        "colab_type": "code",
        "outputId": "bf9098f7-38f2-4269-fb55-06507d65641a",
        "colab": {
          "base_uri": "https://localhost:8080/",
          "height": 34
        }
      },
      "source": [
        "# save the trained model using checkpoints\n",
        "checkpoint_path = \"/content/drive/My Drive/Projects/COLAB/CNN_For_NLP/checkpoints\"\n",
        "ckpt = tf.train.Checkpoint(Dcnn=Dcnn)\n",
        "ckpt_manager = tf.train.CheckpointManager(ckpt,checkpoint_path,max_to_keep=1)\n",
        "if ckpt_manager.latest_checkpoint:\n",
        "  ckpt.restore(ckpt_manager.latest_checkpoint)\n",
        "  print(\"latest checkpoint restored\")"
      ],
      "execution_count": 19,
      "outputs": [
        {
          "output_type": "stream",
          "text": [
            "latest checkpoint restored\n"
          ],
          "name": "stdout"
        }
      ]
    },
    {
      "cell_type": "code",
      "metadata": {
        "id": "9s7_PFWrcCHw",
        "colab_type": "code",
        "outputId": "eb0eedb4-c294-4597-95ad-6958e94dc489",
        "colab": {
          "base_uri": "https://localhost:8080/",
          "height": 102
        }
      },
      "source": [
        "X_train_tensor = tf.convert_to_tensor(X_train, dtype=tf.float32)\n",
        "y_train_tensor = tf.convert_to_tensor(y_train, dtype=tf.float32)\n",
        "\n",
        "Dcnn.fit(X_train_tensor, y_train_tensor ,batch_size=BATCH_SIZE,epochs=NB_EPOCHS)\n",
        "ckpt_manager.save()"
      ],
      "execution_count": 0,
      "outputs": [
        {
          "output_type": "stream",
          "text": [
            "Epoch 1/2\n",
            "7920/7920 [==============================] - 1054s 133ms/step - loss: 0.6104 - accuracy: 0.7560\n",
            "Epoch 2/2\n",
            "7920/7920 [==============================] - 1047s 132ms/step - loss: 0.5929 - accuracy: 0.7976\n"
          ],
          "name": "stdout"
        },
        {
          "output_type": "execute_result",
          "data": {
            "text/plain": [
              "'/content/drive/My Drive/Projects/COLAB/CNN_For_NLP/checkpoints/ckpt-1'"
            ]
          },
          "metadata": {
            "tags": []
          },
          "execution_count": 13
        }
      ]
    },
    {
      "cell_type": "markdown",
      "metadata": {
        "id": "ZTihrM2yFktu",
        "colab_type": "text"
      },
      "source": [
        "## Testing"
      ]
    },
    {
      "cell_type": "code",
      "metadata": {
        "id": "MIzCGplbEL_F",
        "colab_type": "code",
        "colab": {}
      },
      "source": [
        "def binary_pred(prob_pred, threshhold):\n",
        "    if prob_pred > threshhold:\n",
        "        return 1\n",
        "    else:\n",
        "        return 0"
      ],
      "execution_count": 0,
      "outputs": []
    },
    {
      "cell_type": "code",
      "metadata": {
        "id": "RrjVfeC7DOGQ",
        "colab_type": "code",
        "colab": {
          "base_uri": "https://localhost:8080/",
          "height": 85
        },
        "outputId": "f4146e4e-000d-445b-dad1-fd1a2644fce1"
      },
      "source": [
        "X_test_tensor = tf.convert_to_tensor(X_test, dtype=tf.float32)\n",
        "y_test_tensor = tf.convert_to_tensor(y_test, dtype=tf.float32)\n",
        "\n",
        "\n",
        "# make a prediction\n",
        "preds = Dcnn.predict(X_test_tensor)\n",
        "binary_predictions = []\n",
        "for pred in preds:\n",
        "    binary_predictions.append(binary_pred(pred,0.5))\n",
        "\n",
        "print(confusion_matrix(list(y_test), list(binary_predictions)))\n",
        "print('\\nAccuracy:{}'.format(accuracy_score(list(y_test), list(binary_predictions))))"
      ],
      "execution_count": 43,
      "outputs": [
        {
          "output_type": "stream",
          "text": [
            "[[1636  364]\n",
            " [ 418 1582]]\n",
            "\n",
            "Accuracy:0.8045\n"
          ],
          "name": "stdout"
        }
      ]
    }
  ]
}