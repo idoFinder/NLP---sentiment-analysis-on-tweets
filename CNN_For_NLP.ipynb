{
  "nbformat": 4,
  "nbformat_minor": 0,
  "metadata": {
    "colab": {
      "name": "CNN_For_NLP.ipynb",
      "provenance": [],
      "collapsed_sections": [],
      "toc_visible": true,
      "authorship_tag": "ABX9TyMDt2LRaSgshGMmMXMZk2hd",
      "include_colab_link": true
    },
    "kernelspec": {
      "name": "python3",
      "display_name": "Python 3"
    },
    "accelerator": "GPU"
  },
  "cells": [
    {
      "cell_type": "markdown",
      "metadata": {
        "id": "view-in-github",
        "colab_type": "text"
      },
      "source": [
        "<a href=\"https://colab.research.google.com/github/idoFinder/NLP_colab/blob/master/CNN_For_NLP.ipynb\" target=\"_parent\"><img src=\"https://colab.research.google.com/assets/colab-badge.svg\" alt=\"Open In Colab\"/></a>"
      ]
    },
    {
      "cell_type": "markdown",
      "metadata": {
        "id": "hOyaoWQFveXm",
        "colab_type": "text"
      },
      "source": [
        "# Imports\n",
        "\n"
      ]
    },
    {
      "cell_type": "code",
      "metadata": {
        "id": "3gYLT0VMuo8f",
        "colab_type": "code",
        "colab": {}
      },
      "source": [
        "import numpy as np\n",
        "import math\n",
        "import re\n",
        "import pandas as pd\n",
        "from bs4 import BeautifulSoup\n",
        "import os\n",
        "from google.colab import drive"
      ],
      "execution_count": 0,
      "outputs": []
    },
    {
      "cell_type": "code",
      "metadata": {
        "id": "0EizKofXxAfR",
        "colab_type": "code",
        "colab": {}
      },
      "source": [
        "try:\n",
        "    %tensorflow_version 2.x\n",
        "except Exception:\n",
        "    pass\n",
        "import tensorflow as tf\n",
        "\n",
        "from tensorflow.keras import layers\n",
        "import tensorflow_datasets as tfds"
      ],
      "execution_count": 0,
      "outputs": []
    },
    {
      "cell_type": "markdown",
      "metadata": {
        "id": "wf6ENxYroYmh",
        "colab_type": "text"
      },
      "source": [
        "# Load Data"
      ]
    },
    {
      "cell_type": "code",
      "metadata": {
        "id": "SXlqio5fHWw4",
        "colab_type": "code",
        "colab": {}
      },
      "source": [
        "from google.colab import drive\n",
        "drive.mount('/content/drive')"
      ],
      "execution_count": 0,
      "outputs": []
    },
    {
      "cell_type": "code",
      "metadata": {
        "id": "6tNq8WDPoUPg",
        "colab_type": "code",
        "colab": {}
      },
      "source": [
        "columns = ['idx','sentiment','id','date','query','user','text']\n",
        "train_data = pd.read_csv('/content/drive/My Drive/Projects/COLAB/CNN_For_NLP/data/train_sub.csv',\n",
        "                         header=None,\n",
        "                         names = columns,\n",
        "                         engine=\"python\",\n",
        "                         encoding=\"latin1\")\n",
        "\n",
        "# TODO: fix the CSV to match this format\n",
        "train_data = train_data.drop(['idx'], axis=1).iloc[1:]"
      ],
      "execution_count": 0,
      "outputs": []
    },
    {
      "cell_type": "code",
      "metadata": {
        "id": "52HDklDOo17w",
        "colab_type": "code",
        "colab": {}
      },
      "source": [
        "columns = ['sentiment','id','date','query','user','text']\n",
        "test_data = pd.read_csv('/content/drive/My Drive/Projects/COLAB/CNN_For_NLP/data/test.csv',\n",
        "                         header=None,\n",
        "                         names = columns,\n",
        "                         engine=\"python\",\n",
        "                         encoding=\"latin1\")"
      ],
      "execution_count": 0,
      "outputs": []
    },
    {
      "cell_type": "markdown",
      "metadata": {
        "id": "M3h3mBDIDFuj",
        "colab_type": "text"
      },
      "source": [
        "# Cleaning & Preprocessing"
      ]
    },
    {
      "cell_type": "code",
      "metadata": {
        "id": "22LuQ5jx8mkj",
        "colab_type": "code",
        "colab": {}
      },
      "source": [
        "train_data.drop(['id','date','query','user'], axis=1,inplace=True)\n",
        "test_data.drop(['id','date','query','user'], axis=1,inplace=True)"
      ],
      "execution_count": 0,
      "outputs": []
    },
    {
      "cell_type": "code",
      "metadata": {
        "id": "q9z3FA9K80Lb",
        "colab_type": "code",
        "colab": {}
      },
      "source": [
        "def clean_tweets(tweet):\n",
        "  tweet = BeautifulSoup(tweet,\"lxml\").get_text()\n",
        "  tweet = re.sub(r\"@[A-Za-z0-9]+\", ' ',tweet)\n",
        "  tweet = re.sub(r\"https?://[A-Za-z0-9./]+\", ' ',tweet)\n",
        "  tweet = re.sub(r\"[^a-zA-Z.!?]\", ' ',tweet)\n",
        "  tweet = re.sub(r\" +\", ' ',tweet)\n",
        "  # tweet = re.sub(r\".+\", ' ',tweet)\n",
        "  return tweet\n"
      ],
      "execution_count": 0,
      "outputs": []
    },
    {
      "cell_type": "code",
      "metadata": {
        "id": "CY8CU6NvFuKP",
        "colab_type": "code",
        "colab": {}
      },
      "source": [
        "clean_train_data = [clean_tweets(tweet) for tweet in  train_data.text]\n",
        "clean_test_data = [clean_tweets(tweet) for tweet in  test_data.text]"
      ],
      "execution_count": 0,
      "outputs": []
    },
    {
      "cell_type": "code",
      "metadata": {
        "id": "7s_CCg7HHub5",
        "colab_type": "code",
        "colab": {
          "base_uri": "https://localhost:8080/",
          "height": 34
        },
        "outputId": "455ba60a-f79e-444d-c15b-b2b257009327"
      },
      "source": [
        "train_data = train_data.sentiment.values\n",
        "train_labels[train_labels == 4] = 1\n"
      ],
      "execution_count": 22,
      "outputs": [
        {
          "output_type": "execute_result",
          "data": {
            "text/plain": [
              "array(['0', '0', '0', ..., '4', '4', '4'], dtype=object)"
            ]
          },
          "metadata": {
            "tags": []
          },
          "execution_count": 22
        }
      ]
    }
  ]
}